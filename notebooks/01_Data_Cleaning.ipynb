{
  "nbformat": 4,
  "nbformat_minor": 0,
  "metadata": {
    "colab": {
      "provenance": []
    },
    "kernelspec": {
      "name": "python3",
      "display_name": "Python 3"
    },
    "language_info": {
      "name": "python"
    }
  },
  "cells": [
    {
      "cell_type": "markdown",
      "source": [
        "# Data Preprocessing/Cleaning\n",
        "\n",
        "\n",
        "---\n",
        "### To make data machine readable\n"
      ],
      "metadata": {
        "id": "uW5WfDHPKi2Z"
      }
    },
    {
      "cell_type": "markdown",
      "source": [
        "# Install Libraries/Dependencies\n",
        "\n",
        "\n",
        "---\n",
        "\n",
        "\n",
        "*Note: You can find the unprocessed data set labled traffic.log on the github page of this project, you may use your own data set but make sure the columns line up*\n"
      ],
      "metadata": {
        "id": "pJxrnnicKu-z"
      }
    },
    {
      "cell_type": "code",
      "execution_count": 1,
      "metadata": {
        "id": "foUUJMpDJ7-m"
      },
      "outputs": [],
      "source": [
        "import pandas as pd\n",
        "from datetime import time"
      ]
    },
    {
      "cell_type": "markdown",
      "source": [
        "We will first read the data(because how else are you supposed to use it)"
      ],
      "metadata": {
        "id": "OS6-mg_mK3Ow"
      }
    },
    {
      "cell_type": "code",
      "source": [
        "df = pd.read_csv(\"traffic_log.csv\")\n",
        "df['timestamp'] = pd.to_datetime(df['timestamp']) # This makes it readable for later use cases, becasue timestamp is currently a date time thing not a pandas datetime"
      ],
      "metadata": {
        "id": "TyC58PTMLpag"
      },
      "execution_count": null,
      "outputs": []
    },
    {
      "cell_type": "markdown",
      "source": [
        "Next we will calculate the congestion percentage -> (1-current_speed / free_flow_speed) * 100.\n",
        "\n",
        "We will also be defining a function to categorize congestion"
      ],
      "metadata": {
        "id": "jFP0H0bxL6X_"
      }
    },
    {
      "cell_type": "code",
      "source": [
        "df['congestion_percent'] = (1- df['current_speed'] / df['free_flow_speed']) * 100\n",
        "\n",
        "def categorize_data(p):\n",
        "    if p < 30:\n",
        "        return 'Low'\n",
        "    elif p < 60:\n",
        "        return 'Moderate'\n",
        "    else:\n",
        "        return 'Severe'"
      ],
      "metadata": {
        "id": "CPsKvCAbMRpg"
      },
      "execution_count": null,
      "outputs": []
    },
    {
      "cell_type": "markdown",
      "source": [
        "Here I've decided to add a rush hour feature, this will help us determine if congestion will be bad or not"
      ],
      "metadata": {
        "id": "QTzpRoguMdHw"
      }
    },
    {
      "cell_type": "code",
      "source": [
        "def is_rush_hour(t):\n",
        "    return (time(6, 0) <= t <= time(8, 0)) or (time(16, 0) <= t <= time(18, 0))"
      ],
      "metadata": {
        "id": "WZO9nhfwMykg"
      },
      "execution_count": null,
      "outputs": []
    },
    {
      "cell_type": "markdown",
      "source": [
        "Next we will add these columns into the DataFrame"
      ],
      "metadata": {
        "id": "ViPip4lDM1y3"
      }
    },
    {
      "cell_type": "code",
      "source": [
        "df['rush_hour'] = df['timestamp'].dt.time.apply(is_rush_hour)\n",
        "df['congestion_level'] = df['congestion_percent'].apply(categorize_data)\n",
        "df['low_confidence'] = df['confidence'] < 0.3\n",
        "df['hour'] = df['timestamp'].dt.hour"
      ],
      "metadata": {
        "id": "iz8ztclTM-VP"
      },
      "execution_count": null,
      "outputs": []
    },
    {
      "cell_type": "markdown",
      "source": [
        "Finally we will convert the processed data into a csv file, which we will use in model training"
      ],
      "metadata": {
        "id": "sBcTDFWiNCpv"
      }
    },
    {
      "cell_type": "code",
      "source": [
        "df.to_csv(\"traffic_processed.csv\",index=False)\n",
        "print(\"✅ Data prepared and saved to traffic_processed.csv\")"
      ],
      "metadata": {
        "id": "vXmHq66qNTY_"
      },
      "execution_count": null,
      "outputs": []
    }
  ]
}